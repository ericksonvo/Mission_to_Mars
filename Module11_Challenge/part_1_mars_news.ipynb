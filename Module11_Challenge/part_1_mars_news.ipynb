{
 "cells": [
  {
   "cell_type": "markdown",
   "metadata": {},
   "source": [
    "# Module 12 Challenge\n",
    "## Deliverable 1: Scrape Titles and Preview Text from Mars News"
   ]
  },
  {
   "cell_type": "code",
   "execution_count": 5,
   "metadata": {},
   "outputs": [],
   "source": [
    "# Import Splinter and BeautifulSoup\n",
    "from splinter import Browser\n",
    "from bs4 import BeautifulSoup as soup\n",
    "from webdriver_manager.chrome import ChromeDriverManager"
   ]
  },
  {
   "cell_type": "code",
   "execution_count": 6,
   "metadata": {
    "scrolled": true
   },
   "outputs": [],
   "source": [
    "executable_path = {'executable_path': ChromeDriverManager().install()}\n",
    "browser = Browser('chrome', **executable_path, headless=False)"
   ]
  },
  {
   "cell_type": "markdown",
   "metadata": {},
   "source": [
    "### Step 1: Visit the Website\n",
    "\n",
    "1. Use automated browsing to visit the [Mars NASA news site](https://redplanetscience.com). Inspect the page to identify which elements to scrape.\n",
    "\n",
    "      > **Hint** To identify which elements to scrape, you might want to inspect the page by using Chrome DevTools."
   ]
  },
  {
   "cell_type": "code",
   "execution_count": 7,
   "metadata": {},
   "outputs": [],
   "source": [
    "# Visit the Mars NASA news site: https://redplanetscience.com\n",
    "url='https://redplanetscience.com'\n",
    "browser.visit(url)"
   ]
  },
  {
   "cell_type": "markdown",
   "metadata": {},
   "source": [
    "### Step 2: Scrape the Website\n",
    "\n",
    "Create a Beautiful Soup object and use it to extract text elements from the website."
   ]
  },
  {
   "cell_type": "code",
   "execution_count": 8,
   "metadata": {},
   "outputs": [],
   "source": [
    "# Create a Beautiful Soup object\n",
    "html=browser.html\n",
    "soup=soup(html,\"html.parser\")"
   ]
  },
  {
   "cell_type": "code",
   "execution_count": 92,
   "metadata": {},
   "outputs": [
    {
     "data": {
      "text/plain": [
       "[<div class=\"col-md-8\">\n",
       " <div class=\"list_text\">\n",
       " <div class=\"list_date\">February 2, 2023</div>\n",
       " <div class=\"content_title\">NASA's Mars Helicopter Attached to Mars 2020 Rover </div>\n",
       " <div class=\"article_teaser_body\">The helicopter will be first aircraft to perform flight tests on another planet.</div>\n",
       " </div>\n",
       " </div>,\n",
       " <div class=\"col-md-8\">\n",
       " <div class=\"list_text\">\n",
       " <div class=\"list_date\">February 1, 2023</div>\n",
       " <div class=\"content_title\">NASA's Mars 2020 Comes Full Circle</div>\n",
       " <div class=\"article_teaser_body\">Aiming to pinpoint the Martian vehicle's center of gravity, engineers took NASA's 2,300-pound Mars 2020 rover for a spin in the clean room at JPL. </div>\n",
       " </div>\n",
       " </div>,\n",
       " <div class=\"col-md-8\">\n",
       " <div class=\"list_text\">\n",
       " <div class=\"list_date\">January 31, 2023</div>\n",
       " <div class=\"content_title\">NASA Wins 4 Webbys, 4 People's Voice Awards</div>\n",
       " <div class=\"article_teaser_body\">Winners include the JPL-managed \"Send Your Name to Mars\" campaign, NASA's Global Climate Change website and Solar System Interactive.</div>\n",
       " </div>\n",
       " </div>,\n",
       " <div class=\"col-md-8\">\n",
       " <div class=\"list_text\">\n",
       " <div class=\"list_date\">January 25, 2023</div>\n",
       " <div class=\"content_title\">Nine Finalists Chosen in NASA's Mars 2020 Rover Naming Contest</div>\n",
       " <div class=\"article_teaser_body\">Nine finalists have been chosen in the essay contest for K-12 students across U.S. to name NASA's next Mars rover. Now you can help by voting for your favorite. </div>\n",
       " </div>\n",
       " </div>,\n",
       " <div class=\"col-md-8\">\n",
       " <div class=\"list_text\">\n",
       " <div class=\"list_date\">January 24, 2023</div>\n",
       " <div class=\"content_title\">NASA Adds Return Sample Scientists to Mars 2020 Leadership Team</div>\n",
       " <div class=\"article_teaser_body\">The leadership council for Mars 2020 science added two new members who represent the interests of scientists destined to handle and study the first samples from Red Planet.</div>\n",
       " </div>\n",
       " </div>,\n",
       " <div class=\"col-md-8\">\n",
       " <div class=\"list_text\">\n",
       " <div class=\"list_date\">January 24, 2023</div>\n",
       " <div class=\"content_title\">NASA's Curiosity Mars Rover Takes a New Selfie Before Record Climb</div>\n",
       " <div class=\"article_teaser_body\">Along with capturing an image before its steepest ascent ever, the robotic explorer filmed its \"selfie stick,\" or robotic arm, in action.</div>\n",
       " </div>\n",
       " </div>,\n",
       " <div class=\"col-md-8\">\n",
       " <div class=\"list_text\">\n",
       " <div class=\"list_date\">January 22, 2023</div>\n",
       " <div class=\"content_title\">NASA's Perseverance Rover Will Peer Beneath Mars' Surface </div>\n",
       " <div class=\"article_teaser_body\">The agency's newest rover will use the first ground-penetrating radar instrument on the Martian surface to help search for signs of past microbial life. </div>\n",
       " </div>\n",
       " </div>,\n",
       " <div class=\"col-md-8\">\n",
       " <div class=\"list_text\">\n",
       " <div class=\"list_date\">January 18, 2023</div>\n",
       " <div class=\"content_title\">NASA to Hold Mars 2020 Perseverance Rover Launch Briefing</div>\n",
       " <div class=\"article_teaser_body\">Learn more about the agency's next Red Planet mission during a live event on June 17.</div>\n",
       " </div>\n",
       " </div>,\n",
       " <div class=\"col-md-8\">\n",
       " <div class=\"list_text\">\n",
       " <div class=\"list_date\">January 17, 2023</div>\n",
       " <div class=\"content_title\">NASA's Mars 2020 Rover Closer to Getting Its Name</div>\n",
       " <div class=\"article_teaser_body\">155 students from across the U.S. have been chosen as semifinalists in NASA's essay contest to name the Mars 2020 rover, and see it launch from Cape Canaveral this July.</div>\n",
       " </div>\n",
       " </div>,\n",
       " <div class=\"col-md-8\">\n",
       " <div class=\"list_text\">\n",
       " <div class=\"list_date\">January 16, 2023</div>\n",
       " <div class=\"content_title\">MOXIE Could Help Future Rockets Launch Off Mars</div>\n",
       " <div class=\"article_teaser_body\">NASA's Perseverance rover carries a device to convert Martian air into oxygen that, if produced on a larger scale, could be used not just for breathing, but also for fuel.</div>\n",
       " </div>\n",
       " </div>,\n",
       " <div class=\"col-md-8\">\n",
       " <div class=\"list_text\">\n",
       " <div class=\"list_date\">January 13, 2023</div>\n",
       " <div class=\"content_title\">NASA's Perseverance Mars Rover Gets Its Wheels and Air Brakes</div>\n",
       " <div class=\"article_teaser_body\">After the rover was shipped from JPL to Kennedy Space Center, the team is getting closer to finalizing the spacecraft for launch later this summer.</div>\n",
       " </div>\n",
       " </div>,\n",
       " <div class=\"col-md-8\">\n",
       " <div class=\"list_text\">\n",
       " <div class=\"list_date\">January 10, 2023</div>\n",
       " <div class=\"content_title\">The Extraordinary Sample-Gathering System of NASA's Perseverance Mars Rover</div>\n",
       " <div class=\"article_teaser_body\">Two astronauts collected Moon rocks on Apollo 11. It will take three robotic systems working together to gather up the first Mars rock samples for return to Earth.</div>\n",
       " </div>\n",
       " </div>,\n",
       " <div class=\"col-md-8\">\n",
       " <div class=\"list_text\">\n",
       " <div class=\"list_date\">January 8, 2023</div>\n",
       " <div class=\"content_title\">NASA's MAVEN Explores Mars to Understand Radio Interference at Earth</div>\n",
       " <div class=\"article_teaser_body\">NASA’s MAVEN spacecraft has discovered “layers” and “rifts” in the electrically charged part of the upper atmosphere of Mars.</div>\n",
       " </div>\n",
       " </div>,\n",
       " <div class=\"col-md-8\">\n",
       " <div class=\"list_text\">\n",
       " <div class=\"list_date\">January 8, 2023</div>\n",
       " <div class=\"content_title\">NASA's Mars Reconnaissance Orbiter Undergoes Memory Update</div>\n",
       " <div class=\"article_teaser_body\">Other orbiters will continue relaying data from Mars surface missions for a two-week period.</div>\n",
       " </div>\n",
       " </div>,\n",
       " <div class=\"col-md-8\">\n",
       " <div class=\"list_text\">\n",
       " <div class=\"list_date\">January 6, 2023</div>\n",
       " <div class=\"content_title\">NASA's InSight Flexes Its Arm While Its 'Mole' Hits Pause</div>\n",
       " <div class=\"article_teaser_body\">Now that the lander's robotic arm has helped the mole get underground, it will resume science activities that have been on hold.</div>\n",
       " </div>\n",
       " </div>]"
      ]
     },
     "execution_count": 92,
     "metadata": {},
     "output_type": "execute_result"
    }
   ],
   "source": [
    "#extract titles and previews from HTML\n",
    "title_preview=soup.find_all('div',class_=\"col-md-8\")\n",
    "\n",
    "title_preview"
   ]
  },
  {
   "cell_type": "markdown",
   "metadata": {},
   "source": [
    "### Step 3: Store the Results\n",
    "\n",
    "Extract the titles and preview text of the news articles that you scraped. Store the scraping results in Python data structures as follows:\n",
    "\n",
    "* Store each title-and-preview pair in a Python dictionary. And, give each dictionary two keys: `title` and `preview`. An example is the following:\n",
    "\n",
    "  ```python\n",
    "  {'title': \"Mars Rover Begins Mission!\", \n",
    "        'preview': \"NASA's Mars Rover begins a multiyear mission to collect data about the little-explored planet.\"}\n",
    "  ```\n",
    "\n",
    "* Store all the dictionaries in a Python list.\n",
    "\n",
    "* Print the list in your notebook."
   ]
  },
  {
   "cell_type": "code",
   "execution_count": 93,
   "metadata": {},
   "outputs": [],
   "source": [
    "# Create an empty list to store the dictionaries\n",
    "mars_list=[]"
   ]
  },
  {
   "cell_type": "code",
   "execution_count": 98,
   "metadata": {},
   "outputs": [],
   "source": [
    "# Loop through the text elements\n",
    "# Extract the title and preview text from the elements\n",
    "# Store each title and preview pair in a dictionary\n",
    "# Add the dictionary to the list\n",
    "for i in title_preview:\n",
    "    title = i.find(\"div\", class_=\"content_title\").text\n",
    "    preview = i.find(\"div\", class_=\"article_teaser_body\").text\n",
    "    mars_dict = {}\n",
    "    mars_dict[\"Title\"] = title\n",
    "    mars_dict[\"Preview\"] = preview\n",
    "\n",
    "    mars_list.append(mars_dict)"
   ]
  },
  {
   "cell_type": "code",
   "execution_count": 111,
   "metadata": {},
   "outputs": [
    {
     "data": {
      "text/plain": [
       "[{'Title': \"NASA's Mars Helicopter Attached to Mars 2020 Rover \",\n",
       "  'Preview': 'The helicopter will be first aircraft to perform flight tests on another planet.'},\n",
       " {'Title': \"NASA's Mars 2020 Comes Full Circle\",\n",
       "  'Preview': \"Aiming to pinpoint the Martian vehicle's center of gravity, engineers took NASA's 2,300-pound Mars 2020 rover for a spin in the clean room at JPL. \"},\n",
       " {'Title': \"NASA Wins 4 Webbys, 4 People's Voice Awards\",\n",
       "  'Preview': 'Winners include the JPL-managed \"Send Your Name to Mars\" campaign, NASA\\'s Global Climate Change website and Solar System Interactive.'},\n",
       " {'Title': \"Nine Finalists Chosen in NASA's Mars 2020 Rover Naming Contest\",\n",
       "  'Preview': \"Nine finalists have been chosen in the essay contest for K-12 students across U.S. to name NASA's next Mars rover. Now you can help by voting for your favorite. \"},\n",
       " {'Title': 'NASA Adds Return Sample Scientists to Mars 2020 Leadership Team',\n",
       "  'Preview': 'The leadership council for Mars 2020 science added two new members who represent the interests of scientists destined to handle and study the first samples from Red Planet.'},\n",
       " {'Title': \"NASA's Curiosity Mars Rover Takes a New Selfie Before Record Climb\",\n",
       "  'Preview': 'Along with capturing an image before its steepest ascent ever, the robotic explorer filmed its \"selfie stick,\" or robotic arm, in action.'},\n",
       " {'Title': \"NASA's Perseverance Rover Will Peer Beneath Mars' Surface \",\n",
       "  'Preview': \"The agency's newest rover will use the first ground-penetrating radar instrument on the Martian surface to help search for signs of past microbial life. \"},\n",
       " {'Title': 'NASA to Hold Mars 2020 Perseverance Rover Launch Briefing',\n",
       "  'Preview': \"Learn more about the agency's next Red Planet mission during a live event on June 17.\"},\n",
       " {'Title': \"NASA's Mars 2020 Rover Closer to Getting Its Name\",\n",
       "  'Preview': \"155 students from across the U.S. have been chosen as semifinalists in NASA's essay contest to name the Mars 2020 rover, and see it launch from Cape Canaveral this July.\"},\n",
       " {'Title': 'MOXIE Could Help Future Rockets Launch Off Mars',\n",
       "  'Preview': \"NASA's Perseverance rover carries a device to convert Martian air into oxygen that, if produced on a larger scale, could be used not just for breathing, but also for fuel.\"},\n",
       " {'Title': \"NASA's Perseverance Mars Rover Gets Its Wheels and Air Brakes\",\n",
       "  'Preview': 'After the rover was shipped from JPL to Kennedy Space Center, the team is getting closer to finalizing the spacecraft for launch later this summer.'},\n",
       " {'Title': \"The Extraordinary Sample-Gathering System of NASA's Perseverance Mars Rover\",\n",
       "  'Preview': 'Two astronauts collected Moon rocks on Apollo 11. It will take three robotic systems working together to gather up the first Mars rock samples for return to Earth.'},\n",
       " {'Title': \"NASA's MAVEN Explores Mars to Understand Radio Interference at Earth\",\n",
       "  'Preview': 'NASA’s MAVEN spacecraft has discovered “layers” and “rifts” in the electrically charged part of the upper atmosphere of Mars.'},\n",
       " {'Title': \"NASA's Mars Reconnaissance Orbiter Undergoes Memory Update\",\n",
       "  'Preview': 'Other orbiters will continue relaying data from Mars surface missions for a two-week period.'},\n",
       " {'Title': \"NASA's InSight Flexes Its Arm While Its 'Mole' Hits Pause\",\n",
       "  'Preview': \"Now that the lander's robotic arm has helped the mole get underground, it will resume science activities that have been on hold.\"},\n",
       " {'Title': \"NASA's Mars Helicopter Attached to Mars 2020 Rover \",\n",
       "  'Preview': 'The helicopter will be first aircraft to perform flight tests on another planet.'},\n",
       " {'Title': \"NASA's Mars 2020 Comes Full Circle\",\n",
       "  'Preview': \"Aiming to pinpoint the Martian vehicle's center of gravity, engineers took NASA's 2,300-pound Mars 2020 rover for a spin in the clean room at JPL.\"},\n",
       " {'Title': \"NASA Wins 4 Webbys, 4 People's Voice Awards\",\n",
       "  'Preview': 'Winners include the JPL-managed \"Send Your Name to Mars\" campaign, NASA\\'s Global Climate Change website and Solar System Interactive.'},\n",
       " {'Title': \"Nine Finalists Chosen in NASA's Mars 2020 Rover Naming Contest\",\n",
       "  'Preview': \"Nine finalists have been chosen in the essay contest for K-12 students across U.S. to name NASA's next Mars rover. Now you can help by voting for your favorite.\"},\n",
       " {'Title': 'NASA Adds Return Sample Scientists to Mars 2020 Leadership Team',\n",
       "  'Preview': 'The leadership council for Mars 2020 science added two new members who represent the interests of scientists destined to handle and study the first samples from Red Planet.'},\n",
       " {'Title': \"NASA's Curiosity Mars Rover Takes a New Selfie Before Record Climb\",\n",
       "  'Preview': 'Along with capturing an image before its steepest ascent ever, the robotic explorer filmed its \"selfie stick,\" or robotic arm, in action.'},\n",
       " {'Title': \"NASA's Perseverance Rover Will Peer Beneath Mars' Surface \",\n",
       "  'Preview': \"The agency's newest rover will use the first ground-penetrating radar instrument on the Martian surface to help search for signs of past microbial life.\"},\n",
       " {'Title': 'NASA to Hold Mars 2020 Perseverance Rover Launch Briefing',\n",
       "  'Preview': \"Learn more about the agency's next Red Planet mission during a live event on June 17.\"},\n",
       " {'Title': \"NASA's Mars 2020 Rover Closer to Getting Its Name\",\n",
       "  'Preview': \"155 students from across the U.S. have been chosen as semifinalists in NASA's essay contest to name the Mars 2020 rover, and see it launch from Cape Canaveral this July.\"},\n",
       " {'Title': 'MOXIE Could Help Future Rockets Launch Off Mars',\n",
       "  'Preview': \"NASA's Perseverance rover carries a device to convert Martian air into oxygen that, if produced on a larger scale, could be used not just for breathing, but also for fuel.\"},\n",
       " {'Title': \"NASA's Perseverance Mars Rover Gets Its Wheels and Air Brakes\",\n",
       "  'Preview': 'After the rover was shipped from JPL to Kennedy Space Center, the team is getting closer to finalizing the spacecraft for launch later this summer.'},\n",
       " {'Title': \"The Extraordinary Sample-Gathering System of NASA's Perseverance Mars Rover\",\n",
       "  'Preview': 'Two astronauts collected Moon rocks on Apollo 11. It will take three robotic systems working together to gather up the first Mars rock samples for return to Earth.'},\n",
       " {'Title': \"NASA's MAVEN Explores Mars to Understand Radio Interference at Earth\",\n",
       "  'Preview': 'NASA’s MAVEN spacecraft has discovered “layers” and “rifts” in the electrically charged part of the upper atmosphere of Mars.'},\n",
       " {'Title': \"NASA's Mars Reconnaissance Orbiter Undergoes Memory Update\",\n",
       "  'Preview': 'Other orbiters will continue relaying data from Mars surface missions for a two-week period.'},\n",
       " {'Title': \"NASA's InSight Flexes Its Arm While Its 'Mole' Hits Pause\",\n",
       "  'Preview': \"Now that the lander's robotic arm has helped the mole get underground, it will resume science activities that have been on hold.\"},\n",
       " {'Title': \"NASA's Mars Helicopter Attached to Mars 2020 Rover \",\n",
       "  'Preview': 'The helicopter will be first aircraft to perform flight tests on another planet.'},\n",
       " {'Title': \"NASA's Mars 2020 Comes Full Circle\",\n",
       "  'Preview': \"Aiming to pinpoint the Martian vehicle's center of gravity, engineers took NASA's 2,300-pound Mars 2020 rover for a spin in the clean room at JPL. \"},\n",
       " {'Title': \"NASA Wins 4 Webbys, 4 People's Voice Awards\",\n",
       "  'Preview': 'Winners include the JPL-managed \"Send Your Name to Mars\" campaign, NASA\\'s Global Climate Change website and Solar System Interactive.'},\n",
       " {'Title': \"Nine Finalists Chosen in NASA's Mars 2020 Rover Naming Contest\",\n",
       "  'Preview': \"Nine finalists have been chosen in the essay contest for K-12 students across U.S. to name NASA's next Mars rover. Now you can help by voting for your favorite. \"},\n",
       " {'Title': 'NASA Adds Return Sample Scientists to Mars 2020 Leadership Team',\n",
       "  'Preview': 'The leadership council for Mars 2020 science added two new members who represent the interests of scientists destined to handle and study the first samples from Red Planet.'},\n",
       " {'Title': \"NASA's Curiosity Mars Rover Takes a New Selfie Before Record Climb\",\n",
       "  'Preview': 'Along with capturing an image before its steepest ascent ever, the robotic explorer filmed its \"selfie stick,\" or robotic arm, in action.'},\n",
       " {'Title': \"NASA's Perseverance Rover Will Peer Beneath Mars' Surface \",\n",
       "  'Preview': \"The agency's newest rover will use the first ground-penetrating radar instrument on the Martian surface to help search for signs of past microbial life. \"},\n",
       " {'Title': 'NASA to Hold Mars 2020 Perseverance Rover Launch Briefing',\n",
       "  'Preview': \"Learn more about the agency's next Red Planet mission during a live event on June 17.\"},\n",
       " {'Title': \"NASA's Mars 2020 Rover Closer to Getting Its Name\",\n",
       "  'Preview': \"155 students from across the U.S. have been chosen as semifinalists in NASA's essay contest to name the Mars 2020 rover, and see it launch from Cape Canaveral this July.\"},\n",
       " {'Title': 'MOXIE Could Help Future Rockets Launch Off Mars',\n",
       "  'Preview': \"NASA's Perseverance rover carries a device to convert Martian air into oxygen that, if produced on a larger scale, could be used not just for breathing, but also for fuel.\"},\n",
       " {'Title': \"NASA's Perseverance Mars Rover Gets Its Wheels and Air Brakes\",\n",
       "  'Preview': 'After the rover was shipped from JPL to Kennedy Space Center, the team is getting closer to finalizing the spacecraft for launch later this summer.'},\n",
       " {'Title': \"The Extraordinary Sample-Gathering System of NASA's Perseverance Mars Rover\",\n",
       "  'Preview': 'Two astronauts collected Moon rocks on Apollo 11. It will take three robotic systems working together to gather up the first Mars rock samples for return to Earth.'},\n",
       " {'Title': \"NASA's MAVEN Explores Mars to Understand Radio Interference at Earth\",\n",
       "  'Preview': 'NASA’s MAVEN spacecraft has discovered “layers” and “rifts” in the electrically charged part of the upper atmosphere of Mars.'},\n",
       " {'Title': \"NASA's Mars Reconnaissance Orbiter Undergoes Memory Update\",\n",
       "  'Preview': 'Other orbiters will continue relaying data from Mars surface missions for a two-week period.'},\n",
       " {'Title': \"NASA's InSight Flexes Its Arm While Its 'Mole' Hits Pause\",\n",
       "  'Preview': \"Now that the lander's robotic arm has helped the mole get underground, it will resume science activities that have been on hold.\"}]"
      ]
     },
     "execution_count": 111,
     "metadata": {},
     "output_type": "execute_result"
    }
   ],
   "source": [
    "# Print the list to confirm success\n",
    "mars_list"
   ]
  },
  {
   "cell_type": "code",
   "execution_count": 9,
   "metadata": {},
   "outputs": [],
   "source": [
    "browser.quit()"
   ]
  },
  {
   "cell_type": "markdown",
   "metadata": {},
   "source": [
    "### (Optional) Step 4: Export the Data\n",
    "\n",
    "Optionally, store the scraped data in a file or database (to ease sharing the data with others). To do so, export the scraped data to either a JSON file or a MongoDB database."
   ]
  },
  {
   "cell_type": "code",
   "execution_count": 100,
   "metadata": {},
   "outputs": [],
   "source": [
    "# Export data to JSON"
   ]
  },
  {
   "cell_type": "code",
   "execution_count": 101,
   "metadata": {},
   "outputs": [],
   "source": [
    "# Export data to MongoDB\n",
    "from pymongo import MongoClient\n",
    "mongo = MongoClient(port=27017)"
   ]
  },
  {
   "cell_type": "code",
   "execution_count": 102,
   "metadata": {},
   "outputs": [
    {
     "name": "stdout",
     "output_type": "stream",
     "text": [
      "['admin', 'config', 'local']\n"
     ]
    }
   ],
   "source": [
    "print(mongo.list_database_names())"
   ]
  },
  {
   "cell_type": "code",
   "execution_count": 103,
   "metadata": {},
   "outputs": [],
   "source": [
    "mars_db=mongo[\"mars_db\"]"
   ]
  },
  {
   "cell_type": "code",
   "execution_count": 104,
   "metadata": {},
   "outputs": [],
   "source": [
    "mars_collections=mars_db[\"mars_news\"]"
   ]
  },
  {
   "cell_type": "code",
   "execution_count": 107,
   "metadata": {},
   "outputs": [
    {
     "name": "stdout",
     "output_type": "stream",
     "text": [
      "['admin', 'config', 'local']\n"
     ]
    }
   ],
   "source": [
    "print(mongo.list_database_names())"
   ]
  },
  {
   "cell_type": "code",
   "execution_count": 113,
   "metadata": {},
   "outputs": [
    {
     "data": {
      "text/plain": [
       "<pymongo.results.InsertManyResult at 0x1e9e4381dc0>"
      ]
     },
     "execution_count": 113,
     "metadata": {},
     "output_type": "execute_result"
    }
   ],
   "source": [
    "mars_collections.insert_many(mars_list)"
   ]
  },
  {
   "cell_type": "code",
   "execution_count": 114,
   "metadata": {},
   "outputs": [
    {
     "name": "stdout",
     "output_type": "stream",
     "text": [
      "{'_id': ObjectId('63dc1ed10bf08cccd019498a'), 'Title': \"NASA's Mars Helicopter Attached to Mars 2020 Rover \", 'Preview': 'The helicopter will be first aircraft to perform flight tests on another planet.'}\n",
      "{'_id': ObjectId('63dc1ed10bf08cccd019498b'), 'Title': \"NASA's Mars 2020 Comes Full Circle\", 'Preview': \"Aiming to pinpoint the Martian vehicle's center of gravity, engineers took NASA's 2,300-pound Mars 2020 rover for a spin in the clean room at JPL. \"}\n",
      "{'_id': ObjectId('63dc1ed10bf08cccd019498c'), 'Title': \"NASA Wins 4 Webbys, 4 People's Voice Awards\", 'Preview': 'Winners include the JPL-managed \"Send Your Name to Mars\" campaign, NASA\\'s Global Climate Change website and Solar System Interactive.'}\n",
      "{'_id': ObjectId('63dc1ed10bf08cccd019498d'), 'Title': \"Nine Finalists Chosen in NASA's Mars 2020 Rover Naming Contest\", 'Preview': \"Nine finalists have been chosen in the essay contest for K-12 students across U.S. to name NASA's next Mars rover. Now you can help by voting for your favorite. \"}\n",
      "{'_id': ObjectId('63dc1ed10bf08cccd019498e'), 'Title': 'NASA Adds Return Sample Scientists to Mars 2020 Leadership Team', 'Preview': 'The leadership council for Mars 2020 science added two new members who represent the interests of scientists destined to handle and study the first samples from Red Planet.'}\n",
      "{'_id': ObjectId('63dc1ed10bf08cccd019498f'), 'Title': \"NASA's Curiosity Mars Rover Takes a New Selfie Before Record Climb\", 'Preview': 'Along with capturing an image before its steepest ascent ever, the robotic explorer filmed its \"selfie stick,\" or robotic arm, in action.'}\n",
      "{'_id': ObjectId('63dc1ed10bf08cccd0194990'), 'Title': \"NASA's Perseverance Rover Will Peer Beneath Mars' Surface \", 'Preview': \"The agency's newest rover will use the first ground-penetrating radar instrument on the Martian surface to help search for signs of past microbial life. \"}\n",
      "{'_id': ObjectId('63dc1ed10bf08cccd0194991'), 'Title': 'NASA to Hold Mars 2020 Perseverance Rover Launch Briefing', 'Preview': \"Learn more about the agency's next Red Planet mission during a live event on June 17.\"}\n",
      "{'_id': ObjectId('63dc1ed10bf08cccd0194992'), 'Title': \"NASA's Mars 2020 Rover Closer to Getting Its Name\", 'Preview': \"155 students from across the U.S. have been chosen as semifinalists in NASA's essay contest to name the Mars 2020 rover, and see it launch from Cape Canaveral this July.\"}\n",
      "{'_id': ObjectId('63dc1ed10bf08cccd0194993'), 'Title': 'MOXIE Could Help Future Rockets Launch Off Mars', 'Preview': \"NASA's Perseverance rover carries a device to convert Martian air into oxygen that, if produced on a larger scale, could be used not just for breathing, but also for fuel.\"}\n",
      "{'_id': ObjectId('63dc1ed10bf08cccd0194994'), 'Title': \"NASA's Perseverance Mars Rover Gets Its Wheels and Air Brakes\", 'Preview': 'After the rover was shipped from JPL to Kennedy Space Center, the team is getting closer to finalizing the spacecraft for launch later this summer.'}\n",
      "{'_id': ObjectId('63dc1ed10bf08cccd0194995'), 'Title': \"The Extraordinary Sample-Gathering System of NASA's Perseverance Mars Rover\", 'Preview': 'Two astronauts collected Moon rocks on Apollo 11. It will take three robotic systems working together to gather up the first Mars rock samples for return to Earth.'}\n",
      "{'_id': ObjectId('63dc1ed10bf08cccd0194996'), 'Title': \"NASA's MAVEN Explores Mars to Understand Radio Interference at Earth\", 'Preview': 'NASA’s MAVEN spacecraft has discovered “layers” and “rifts” in the electrically charged part of the upper atmosphere of Mars.'}\n",
      "{'_id': ObjectId('63dc1ed10bf08cccd0194997'), 'Title': \"NASA's Mars Reconnaissance Orbiter Undergoes Memory Update\", 'Preview': 'Other orbiters will continue relaying data from Mars surface missions for a two-week period.'}\n",
      "{'_id': ObjectId('63dc1ed10bf08cccd0194998'), 'Title': \"NASA's InSight Flexes Its Arm While Its 'Mole' Hits Pause\", 'Preview': \"Now that the lander's robotic arm has helped the mole get underground, it will resume science activities that have been on hold.\"}\n",
      "{'_id': ObjectId('63dc1ed10bf08cccd0194999'), 'Title': \"NASA's Mars Helicopter Attached to Mars 2020 Rover \", 'Preview': 'The helicopter will be first aircraft to perform flight tests on another planet.'}\n",
      "{'_id': ObjectId('63dc1ed10bf08cccd019499a'), 'Title': \"NASA's Mars 2020 Comes Full Circle\", 'Preview': \"Aiming to pinpoint the Martian vehicle's center of gravity, engineers took NASA's 2,300-pound Mars 2020 rover for a spin in the clean room at JPL.\"}\n",
      "{'_id': ObjectId('63dc1ed10bf08cccd019499b'), 'Title': \"NASA Wins 4 Webbys, 4 People's Voice Awards\", 'Preview': 'Winners include the JPL-managed \"Send Your Name to Mars\" campaign, NASA\\'s Global Climate Change website and Solar System Interactive.'}\n",
      "{'_id': ObjectId('63dc1ed10bf08cccd019499c'), 'Title': \"Nine Finalists Chosen in NASA's Mars 2020 Rover Naming Contest\", 'Preview': \"Nine finalists have been chosen in the essay contest for K-12 students across U.S. to name NASA's next Mars rover. Now you can help by voting for your favorite.\"}\n",
      "{'_id': ObjectId('63dc1ed10bf08cccd019499d'), 'Title': 'NASA Adds Return Sample Scientists to Mars 2020 Leadership Team', 'Preview': 'The leadership council for Mars 2020 science added two new members who represent the interests of scientists destined to handle and study the first samples from Red Planet.'}\n",
      "{'_id': ObjectId('63dc1ed10bf08cccd019499e'), 'Title': \"NASA's Curiosity Mars Rover Takes a New Selfie Before Record Climb\", 'Preview': 'Along with capturing an image before its steepest ascent ever, the robotic explorer filmed its \"selfie stick,\" or robotic arm, in action.'}\n",
      "{'_id': ObjectId('63dc1ed10bf08cccd019499f'), 'Title': \"NASA's Perseverance Rover Will Peer Beneath Mars' Surface \", 'Preview': \"The agency's newest rover will use the first ground-penetrating radar instrument on the Martian surface to help search for signs of past microbial life.\"}\n",
      "{'_id': ObjectId('63dc1ed10bf08cccd01949a0'), 'Title': 'NASA to Hold Mars 2020 Perseverance Rover Launch Briefing', 'Preview': \"Learn more about the agency's next Red Planet mission during a live event on June 17.\"}\n",
      "{'_id': ObjectId('63dc1ed10bf08cccd01949a1'), 'Title': \"NASA's Mars 2020 Rover Closer to Getting Its Name\", 'Preview': \"155 students from across the U.S. have been chosen as semifinalists in NASA's essay contest to name the Mars 2020 rover, and see it launch from Cape Canaveral this July.\"}\n",
      "{'_id': ObjectId('63dc1ed10bf08cccd01949a2'), 'Title': 'MOXIE Could Help Future Rockets Launch Off Mars', 'Preview': \"NASA's Perseverance rover carries a device to convert Martian air into oxygen that, if produced on a larger scale, could be used not just for breathing, but also for fuel.\"}\n",
      "{'_id': ObjectId('63dc1ed10bf08cccd01949a3'), 'Title': \"NASA's Perseverance Mars Rover Gets Its Wheels and Air Brakes\", 'Preview': 'After the rover was shipped from JPL to Kennedy Space Center, the team is getting closer to finalizing the spacecraft for launch later this summer.'}\n",
      "{'_id': ObjectId('63dc1ed10bf08cccd01949a4'), 'Title': \"The Extraordinary Sample-Gathering System of NASA's Perseverance Mars Rover\", 'Preview': 'Two astronauts collected Moon rocks on Apollo 11. It will take three robotic systems working together to gather up the first Mars rock samples for return to Earth.'}\n",
      "{'_id': ObjectId('63dc1ed10bf08cccd01949a5'), 'Title': \"NASA's MAVEN Explores Mars to Understand Radio Interference at Earth\", 'Preview': 'NASA’s MAVEN spacecraft has discovered “layers” and “rifts” in the electrically charged part of the upper atmosphere of Mars.'}\n",
      "{'_id': ObjectId('63dc1ed10bf08cccd01949a6'), 'Title': \"NASA's Mars Reconnaissance Orbiter Undergoes Memory Update\", 'Preview': 'Other orbiters will continue relaying data from Mars surface missions for a two-week period.'}\n",
      "{'_id': ObjectId('63dc1ed10bf08cccd01949a7'), 'Title': \"NASA's InSight Flexes Its Arm While Its 'Mole' Hits Pause\", 'Preview': \"Now that the lander's robotic arm has helped the mole get underground, it will resume science activities that have been on hold.\"}\n",
      "{'_id': ObjectId('63dc1ed10bf08cccd01949a8'), 'Title': \"NASA's Mars Helicopter Attached to Mars 2020 Rover \", 'Preview': 'The helicopter will be first aircraft to perform flight tests on another planet.'}\n",
      "{'_id': ObjectId('63dc1ed10bf08cccd01949a9'), 'Title': \"NASA's Mars 2020 Comes Full Circle\", 'Preview': \"Aiming to pinpoint the Martian vehicle's center of gravity, engineers took NASA's 2,300-pound Mars 2020 rover for a spin in the clean room at JPL. \"}\n",
      "{'_id': ObjectId('63dc1ed10bf08cccd01949aa'), 'Title': \"NASA Wins 4 Webbys, 4 People's Voice Awards\", 'Preview': 'Winners include the JPL-managed \"Send Your Name to Mars\" campaign, NASA\\'s Global Climate Change website and Solar System Interactive.'}\n",
      "{'_id': ObjectId('63dc1ed10bf08cccd01949ab'), 'Title': \"Nine Finalists Chosen in NASA's Mars 2020 Rover Naming Contest\", 'Preview': \"Nine finalists have been chosen in the essay contest for K-12 students across U.S. to name NASA's next Mars rover. Now you can help by voting for your favorite. \"}\n",
      "{'_id': ObjectId('63dc1ed10bf08cccd01949ac'), 'Title': 'NASA Adds Return Sample Scientists to Mars 2020 Leadership Team', 'Preview': 'The leadership council for Mars 2020 science added two new members who represent the interests of scientists destined to handle and study the first samples from Red Planet.'}\n",
      "{'_id': ObjectId('63dc1ed10bf08cccd01949ad'), 'Title': \"NASA's Curiosity Mars Rover Takes a New Selfie Before Record Climb\", 'Preview': 'Along with capturing an image before its steepest ascent ever, the robotic explorer filmed its \"selfie stick,\" or robotic arm, in action.'}\n",
      "{'_id': ObjectId('63dc1ed10bf08cccd01949ae'), 'Title': \"NASA's Perseverance Rover Will Peer Beneath Mars' Surface \", 'Preview': \"The agency's newest rover will use the first ground-penetrating radar instrument on the Martian surface to help search for signs of past microbial life. \"}\n",
      "{'_id': ObjectId('63dc1ed10bf08cccd01949af'), 'Title': 'NASA to Hold Mars 2020 Perseverance Rover Launch Briefing', 'Preview': \"Learn more about the agency's next Red Planet mission during a live event on June 17.\"}\n",
      "{'_id': ObjectId('63dc1ed10bf08cccd01949b0'), 'Title': \"NASA's Mars 2020 Rover Closer to Getting Its Name\", 'Preview': \"155 students from across the U.S. have been chosen as semifinalists in NASA's essay contest to name the Mars 2020 rover, and see it launch from Cape Canaveral this July.\"}\n",
      "{'_id': ObjectId('63dc1ed10bf08cccd01949b1'), 'Title': 'MOXIE Could Help Future Rockets Launch Off Mars', 'Preview': \"NASA's Perseverance rover carries a device to convert Martian air into oxygen that, if produced on a larger scale, could be used not just for breathing, but also for fuel.\"}\n",
      "{'_id': ObjectId('63dc1ed10bf08cccd01949b2'), 'Title': \"NASA's Perseverance Mars Rover Gets Its Wheels and Air Brakes\", 'Preview': 'After the rover was shipped from JPL to Kennedy Space Center, the team is getting closer to finalizing the spacecraft for launch later this summer.'}\n",
      "{'_id': ObjectId('63dc1ed10bf08cccd01949b3'), 'Title': \"The Extraordinary Sample-Gathering System of NASA's Perseverance Mars Rover\", 'Preview': 'Two astronauts collected Moon rocks on Apollo 11. It will take three robotic systems working together to gather up the first Mars rock samples for return to Earth.'}\n",
      "{'_id': ObjectId('63dc1ed10bf08cccd01949b4'), 'Title': \"NASA's MAVEN Explores Mars to Understand Radio Interference at Earth\", 'Preview': 'NASA’s MAVEN spacecraft has discovered “layers” and “rifts” in the electrically charged part of the upper atmosphere of Mars.'}\n",
      "{'_id': ObjectId('63dc1ed10bf08cccd01949b5'), 'Title': \"NASA's Mars Reconnaissance Orbiter Undergoes Memory Update\", 'Preview': 'Other orbiters will continue relaying data from Mars surface missions for a two-week period.'}\n",
      "{'_id': ObjectId('63dc1ed10bf08cccd01949b6'), 'Title': \"NASA's InSight Flexes Its Arm While Its 'Mole' Hits Pause\", 'Preview': \"Now that the lander's robotic arm has helped the mole get underground, it will resume science activities that have been on hold.\"}\n"
     ]
    }
   ],
   "source": [
    "results = mars_collections.find()\n",
    "for r in results:\n",
    "    print(r)"
   ]
  },
  {
   "cell_type": "code",
   "execution_count": 115,
   "metadata": {},
   "outputs": [
    {
     "name": "stdout",
     "output_type": "stream",
     "text": [
      "['admin', 'config', 'local', 'mars_db']\n"
     ]
    }
   ],
   "source": [
    "print(mongo.list_database_names())"
   ]
  },
  {
   "cell_type": "code",
   "execution_count": null,
   "metadata": {},
   "outputs": [],
   "source": []
  }
 ],
 "metadata": {
  "kernelspec": {
   "display_name": "Python 3 (ipykernel)",
   "language": "python",
   "name": "python3"
  },
  "language_info": {
   "codemirror_mode": {
    "name": "ipython",
    "version": 3
   },
   "file_extension": ".py",
   "mimetype": "text/x-python",
   "name": "python",
   "nbconvert_exporter": "python",
   "pygments_lexer": "ipython3",
   "version": "3.9.13"
  }
 },
 "nbformat": 4,
 "nbformat_minor": 4
}
